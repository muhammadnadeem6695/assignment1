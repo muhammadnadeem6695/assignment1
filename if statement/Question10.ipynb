{
 "cells": [
  {
   "cell_type": "code",
   "execution_count": null,
   "metadata": {},
   "outputs": [],
   "source": [
    "#11) A shop will give discount of 10% if the cost of purchased quantity is more than 1000. Ask user for quantity Suppose, one unit will cost 100.\n",
    "#Judge and print total cost for user.\n",
    "\n",
    "no= int(input(\"please Enter the Number\"))\n",
    "if no>80:\n",
    "    print(\"Grade A\")\n",
    "elif no>60:\n",
    "    print(\"Grade B\")\n",
    "elif no>50:\n",
    "    print(\"Grade C\")\n",
    "elif no>45:\n",
    "    print(\"Grade D\")\n",
    "elif no>25:\n",
    "    print(\"Grade E\")\n",
    "else:\n",
    "    print(\"Grade F\")\n"
   ]
  }
 ],
 "metadata": {
  "language_info": {
   "name": "python"
  }
 },
 "nbformat": 4,
 "nbformat_minor": 2
}
