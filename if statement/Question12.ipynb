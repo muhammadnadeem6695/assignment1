{
 "cells": [
  {
   "cell_type": "code",
   "execution_count": null,
   "metadata": {},
   "outputs": [],
   "source": [
    "#12) A school has following rules for grading system:\n",
    "#a. Below 25 - F\n",
    "#b. 25 to 45 - E\n",
    "#c. 45 to 50 - D\n",
    "#d. 50 to 60 - C\n",
    "#e. 60 to 80 - B\n",
    "#f. Above 80 - A\n",
    "#Ask user to enter marks and print the corresponding grade.\n",
    "no= int(input(\"please Enter the Number: \"))\n",
    "if no>80:\n",
    "    print(\"Grade A\")\n",
    "elif no>60:\n",
    "    print(\"Grade B\")\n",
    "elif no>50:\n",
    "    print(\"Grade C\")\n",
    "elif no>45:\n",
    "    print(\"Grade D\")\n",
    "elif no>25:\n",
    "    print(\"Grade E\")\n",
    "else:\n",
    "    print(\"Grade F\")\n"
   ]
  }
 ],
 "metadata": {
  "language_info": {
   "name": "python"
  }
 },
 "nbformat": 4,
 "nbformat_minor": 2
}
