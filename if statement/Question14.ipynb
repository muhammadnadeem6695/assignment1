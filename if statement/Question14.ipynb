{
 "cells": [
  {
   "cell_type": "code",
   "execution_count": null,
   "metadata": {},
   "outputs": [],
   "source": [
    "att=int(input(\"please enter the attendence\"))\n",
    "held=int(input(\"please enter the held class\"))\n",
    "medical = input(\"have you medical issue : Y or N: \")\n",
    "percentage=att/held*100\n",
    "if percentage > 75:\n",
    "    print (\"you are allowed to attend exam\")\n",
    "elif percentage < 75 and medical==\"Y\":\n",
    "    print (\"you are allowed to attend exam\")\n",
    "else:\n",
    "    print (\"you are not allowed to attend exam\")\n"
   ]
  }
 ],
 "metadata": {
  "language_info": {
   "name": "python"
  }
 },
 "nbformat": 4,
 "nbformat_minor": 2
}
