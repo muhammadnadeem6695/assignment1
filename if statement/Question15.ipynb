{
 "cells": [
  {
   "cell_type": "code",
   "execution_count": null,
   "metadata": {},
   "outputs": [],
   "source": [
    "#15) Modify the above question to allow student to sit if he/she has medical cause. Ask user if he/she has medical cause or not ( 'Y' or 'N' ) and\n",
    "\n",
    "held=int(input(\"please enter the held class\"))\n",
    "att=int(input(\"please enter the attendence\"))\n",
    "\n",
    "medical = input(\"have you medical issue : Y or N: \")\n",
    "percentage=att/held*100\n",
    "if percentage > 75:\n",
    "    print (\"you are allowed to attend exam\")\n",
    "elif percentage < 75 and medical==\"Y\":\n",
    "    print (\"you are allowed to attend exam\")\n",
    "else:\n",
    "    print (\"you are not allowed to attend exam\")\n"
   ]
  }
 ],
 "metadata": {
  "language_info": {
   "name": "python"
  }
 },
 "nbformat": 4,
 "nbformat_minor": 2
}
