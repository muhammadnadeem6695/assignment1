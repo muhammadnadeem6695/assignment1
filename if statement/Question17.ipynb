{
 "cells": [
  {
   "cell_type": "code",
   "execution_count": null,
   "metadata": {},
   "outputs": [],
   "source": [
    "#Ask user to enter age, gender ( M or F ), marital status ( Y or N ) and then using following rules print their place of service.\n",
    "#if employee is female, then she will work only in urban areas.\n",
    "#if employee is a male and age is in between 20 to 40 then he may work in anywhere\n",
    "#if employee is male and age is in between 40 t0 60 then he will work in urban areas only.\n",
    "#And any other input of age should print \"ERROR\"\n",
    "\n",
    "age = int(input(\"please enter your age: \"))\n",
    "gender = input(\"male or female :  \")\n",
    "if gender == \"female\":\n",
    "    print(\"she will work only in urban areas\")\n",
    "elif gender == \"male\" and age > 20 and age < 40:\n",
    "    print(\"he may work anywhere\")\n",
    "elif gender== \"male\" and age > 40 and age < 60 :\n",
    "    print (\"They will work urban areas\")\n",
    "else:\n",
    "    print(\"error\")"
   ]
  }
 ],
 "metadata": {
  "language_info": {
   "name": "python"
  }
 },
 "nbformat": 4,
 "nbformat_minor": 2
}
