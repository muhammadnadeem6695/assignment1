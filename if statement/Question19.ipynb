{
 "cells": [
  {
   "cell_type": "code",
   "execution_count": null,
   "metadata": {},
   "outputs": [],
   "source": [
    "#Write a program to calculate the electricity bill (accept number of unit from user) according to the following criteria :\n",
    "#Unit Price uptp 100 units no charge Next 200 units Rs 5 per unit After 200 units Rs 10 per unit (For example if input unit is 350 than total bill amount is\n",
    "#Rs.3500 (For example if input unit is 97 than total bill amount is Rs.0 (For example if input unit is 150 than total bill amount is Rs.750\n",
    "\n",
    "user_unit = int(input(\"Please Enter your unit :  \"))\n",
    "if user_unit < 101 :\n",
    "    print(\"No charge\")\n",
    "elif user_unit > 100 and user_unit <= 300 :\n",
    "    print ( user_unit * 5 )\n",
    "else:\n",
    "    print (user_unit * 10 )\n",
    "\n",
    "\n"
   ]
  }
 ],
 "metadata": {
  "language_info": {
   "name": "python"
  }
 },
 "nbformat": 4,
 "nbformat_minor": 2
}
