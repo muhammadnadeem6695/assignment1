{
 "cells": [
  {
   "cell_type": "code",
   "execution_count": null,
   "metadata": {},
   "outputs": [],
   "source": [
    "#Write a program to check whether a person is eligible for voting or not. (accept age from user) if age is greater than 17 eligible otherwise not\n",
    "age = int(input(\"please enter the age : \"))\n",
    "if age > 17 :\n",
    "    print(\"Eligibal\")\n",
    "else:\n",
    "    print(\"Not eligibal\")"
   ]
  }
 ],
 "metadata": {
  "language_info": {
   "name": "python"
  }
 },
 "nbformat": 4,
 "nbformat_minor": 2
}
