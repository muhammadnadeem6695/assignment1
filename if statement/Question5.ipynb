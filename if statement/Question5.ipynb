{
 "cells": [
  {
   "cell_type": "code",
   "execution_count": null,
   "metadata": {},
   "outputs": [],
   "source": [
    "no = int(input(\"please Enter the number : \"))\n",
    "if no % 5==0:\n",
    "    print(\"Hello\")\n",
    "else:\n",
    "    print(\"Bye\")\n",
    "    \n"
   ]
  }
 ],
 "metadata": {
  "language_info": {
   "name": "python"
  }
 },
 "nbformat": 4,
 "nbformat_minor": 2
}
