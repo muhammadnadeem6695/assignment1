{
 "cells": [
  {
   "cell_type": "code",
   "execution_count": null,
   "metadata": {},
   "outputs": [],
   "source": [
    "en = int(input(\"Enter the length\"))\n",
    "bre =int(input(\"Enter the breadth\"))\n",
    "if len==bre:\n",
    "    print(\"Squre\")\n",
    "else\n",
    "    print(\"Recangle\")"
   ]
  }
 ],
 "metadata": {
  "language_info": {
   "name": "python"
  }
 },
 "nbformat": 4,
 "nbformat_minor": 2
}
