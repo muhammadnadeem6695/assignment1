{
 "cells": [
  {
   "cell_type": "code",
   "execution_count": null,
   "metadata": {},
   "outputs": [],
   "source": [
    "#A company decided to give bonus of 5% to employee if his/her year of service is more than 5 years. \n",
    "#Ask user for their salary and year of service and print the net bonus amount.\n",
    "\n",
    "\n",
    "salary = int(input(\"Enter your salary\" ))\n",
    "Duration= int(input(\"please enter your service duration : \"))\n",
    "bonus = salary * float(5/100)\n",
    "if Duration > 5:\n",
    "    print(salary + bonus)\n",
    "    print(bonus)\n",
    "else:\n",
    "    print(\"No bounus\")\n"
   ]
  }
 ],
 "metadata": {
  "language_info": {
   "name": "python"
  }
 },
 "nbformat": 4,
 "nbformat_minor": 2
}
