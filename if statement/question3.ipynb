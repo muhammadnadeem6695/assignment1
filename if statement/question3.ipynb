{
 "cells": [
  {
   "cell_type": "code",
   "execution_count": null,
   "metadata": {},
   "outputs": [],
   "source": [
    "#Write a program to check whether a number entered by user is even or odd.\n",
    "\n",
    "age = int(input(\"please enter your age\"))\n",
    "if age > 17:\n",
    "    print (\"you are eligibal for voting\")\n",
    "else:\n",
    "    print(\"you are not eligibal for voting\")"
   ]
  }
 ],
 "metadata": {
  "language_info": {
   "name": "python"
  }
 },
 "nbformat": 4,
 "nbformat_minor": 2
}
